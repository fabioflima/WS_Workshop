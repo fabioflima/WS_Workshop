{
 "cells": [
  {
   "cell_type": "markdown",
   "metadata": {
    "collapsed": true,
    "deletable": true,
    "editable": true
   },
   "source": [
    "# Creating and running an Optimization Model"
   ]
  },
  {
   "cell_type": "code",
   "execution_count": 24,
   "metadata": {
    "collapsed": false
   },
   "outputs": [
    {
     "name": "stdout",
     "output_type": "stream",
     "text": [
      "Requirement already satisfied: docplex in /opt/conda/lib/python2.7/site-packages\r\n"
     ]
    }
   ],
   "source": [
    "!pip install docplex"
   ]
  },
  {
   "cell_type": "code",
   "execution_count": 25,
   "metadata": {
    "collapsed": true
   },
   "outputs": [],
   "source": [
    "import docplex.cp"
   ]
  },
  {
   "cell_type": "code",
   "execution_count": 26,
   "metadata": {
    "collapsed": true
   },
   "outputs": [],
   "source": [
    "# Initialize IBM Decision Optimization credentials\n",
    "SVC_URL = \"\" \n",
    "SVC_KEY = \"\""
   ]
  },
  {
   "cell_type": "code",
   "execution_count": 27,
   "metadata": {
    "collapsed": true
   },
   "outputs": [],
   "source": [
    "# Make sure the indentation is exactly as shown in the guide.\n",
    "try:\n",
    "   import matplotlib\n",
    "   if matplotlib.__version__ < \"1.4.3\":\n",
    "        !pip install --upgrade matplotlib\n",
    "except:\n",
    "   !pip install --user matplotlib"
   ]
  },
  {
   "cell_type": "code",
   "execution_count": 28,
   "metadata": {
    "collapsed": true
   },
   "outputs": [],
   "source": [
    "from docplex.cp.model import *\n",
    "from sys import stdout\n",
    "from collections import namedtuple"
   ]
  },
  {
   "cell_type": "code",
   "execution_count": 29,
   "metadata": {
    "collapsed": true
   },
   "outputs": [],
   "source": [
    "NB_HOUSES = 5\n",
    "MAX_AMOUNT_OF_PERIODS = 318\n",
    "HOUSES = range(1, NB_HOUSES + 1)\n",
    "# All tasks must start and end between 0 and the max amount of periods.\n",
    "period_domain = (0, MAX_AMOUNT_OF_PERIODS)"
   ]
  },
  {
   "cell_type": "code",
   "execution_count": 30,
   "metadata": {
    "collapsed": true
   },
   "outputs": [],
   "source": [
    "Task = (namedtuple(\"Task\", [\"name\", \"duration\"]))\n",
    "TASKS = {Task(\"masonry\",   35),\n",
    "         Task(\"carpentry\", 15),\n",
    "         Task(\"plumbing\",  40),\n",
    "         Task(\"ceiling\",   15),\n",
    "         Task(\"roofing\",    5),\n",
    "         Task(\"painting\",  10),\n",
    "         Task(\"windows\",    5),\n",
    "         Task(\"facade\",    10),\n",
    "         Task(\"garden\",     5),\n",
    "         Task(\"moving\",     5),\n",
    "        }"
   ]
  },
  {
   "cell_type": "code",
   "execution_count": 31,
   "metadata": {
    "collapsed": true
   },
   "outputs": [],
   "source": [
    "TaskPrecedence = (namedtuple(\"TaskPrecedence\", [\"beforeTask\", \"afterTask\"]))\n",
    "TASK_PRECEDENCES = {TaskPrecedence(\"masonry\",   \"carpentry\"),\n",
    "                    TaskPrecedence(\"masonry\",   \"plumbing\"),\n",
    "                    TaskPrecedence(\"masonry\",   \"ceiling\"),\n",
    "                    TaskPrecedence(\"carpentry\", \"roofing\"),\n",
    "                    TaskPrecedence(\"ceiling\",   \"painting\"),\n",
    "                    TaskPrecedence(\"roofing\",   \"windows\"),\n",
    "                    TaskPrecedence(\"roofing\",   \"facade\"),\n",
    "                    TaskPrecedence(\"plumbing\",  \"facade\"),\n",
    "                    TaskPrecedence(\"roofing\",   \"garden\"),\n",
    "                    TaskPrecedence(\"plumbing\",  \"garden\"),\n",
    "                    TaskPrecedence(\"windows\",   \"moving\"),\n",
    "                    TaskPrecedence(\"facade\",    \"moving\"),\n",
    "                    TaskPrecedence(\"garden\",    \"moving\"),\n",
    "                    TaskPrecedence(\"painting\",  \"moving\"),\n",
    "                   }"
   ]
  },
  {
   "cell_type": "code",
   "execution_count": 32,
   "metadata": {
    "collapsed": true
   },
   "outputs": [],
   "source": [
    "WORKERS = {\"Joe\", \"Jack\", \"Jim\"}\n",
    "Skill = (namedtuple(\"Skill\", [\"worker\", \"task\", \"level\"]))\n",
    "SKILLS = {Skill(\"Joe\",  \"masonry\",   9),\n",
    "          Skill(\"Joe\",  \"carpentry\", 7),\n",
    "          Skill(\"Joe\",  \"ceiling\",   5),\n",
    "          Skill(\"Joe\",  \"roofing\",   6),\n",
    "          Skill(\"Joe\",  \"windows\",   8),\n",
    "          Skill(\"Joe\",  \"facade\",    5),\n",
    "          Skill(\"Joe\",  \"garden\",    5),\n",
    "          Skill(\"Joe\",  \"moving\",    6),\n",
    "          Skill(\"Jack\", \"masonry\",   5),\n",
    "          Skill(\"Jack\", \"plumbing\",  7),\n",
    "          Skill(\"Jack\", \"ceiling\",   8),\n",
    "          Skill(\"Jack\", \"roofing\",   7),\n",
    "          Skill(\"Jack\", \"painting\",  9),\n",
    "          Skill(\"Jack\", \"facade\",    5),\n",
    "          Skill(\"Jack\", \"garden\",    5),\n",
    "          Skill(\"Jim\",  \"carpentry\", 5),\n",
    "          Skill(\"Jim\",  \"painting\",  6),\n",
    "          Skill(\"Jim\",  \"windows\",   5),\n",
    "          Skill(\"Jim\",  \"garden\",    9),\n",
    "          Skill(\"Jim\",  \"moving\",    8)\n",
    "          }"
   ]
  },
  {
   "cell_type": "code",
   "execution_count": 33,
   "metadata": {
    "collapsed": true
   },
   "outputs": [],
   "source": [
    "# find_tasks: returns the task it refers to in the TASKS vector.\n",
    "def find_tasks(name):\n",
    "    return next(t for t in TASKS if t.name == name)\n",
    "\n",
    "# find_skills: returns the skill it refers to in the SKILLS vector.\n",
    "def find_skills(worker, task):\n",
    "    return next(s for s in SKILLS if (s.worker == worker) and (s.task == task))\n",
    "\n",
    "# find_max_level_skill: returns the tuple \"skill\" where a worker's level is the maximum for a given task.\n",
    "def find_max_level_skill(task):\n",
    "    st = [s for s in SKILLS if s.task == task]\n",
    "    return next(sk for sk in st if sk.level == max([s.level for s in st]))"
   ]
  },
  {
   "cell_type": "code",
   "execution_count": 34,
   "metadata": {
    "collapsed": true
   },
   "outputs": [],
   "source": [
    "# Create the model container\n",
    "mdl = CpoModel(name=\"HouseBuilding\")"
   ]
  },
  {
   "cell_type": "code",
   "execution_count": 35,
   "metadata": {
    "collapsed": true
   },
   "outputs": [],
   "source": [
    "tasks = {}   # dict of interval variable for each house and task\n",
    "for house in HOUSES:\n",
    "    for task in TASKS:\n",
    "        tasks[(house, task)] = interval_var(start=period_domain,\n",
    "                                            end=period_domain,\n",
    "                                            size=task.duration,\n",
    "                                            name=\"house {} task {}\".format(house, task))"
   ]
  },
  {
   "cell_type": "code",
   "execution_count": 36,
   "metadata": {
    "collapsed": true
   },
   "outputs": [],
   "source": [
    "wtasks = {}  # dict of interval variable for each house and skill\n",
    "for house in HOUSES:\n",
    "    for skill in SKILLS:\n",
    "        iv = interval_var(name='H' + str(house) + '-' + skill.task + '(' + skill.worker + ')')\n",
    "        iv.set_optional()\n",
    "        wtasks[(house, skill)] = iv"
   ]
  },
  {
   "cell_type": "code",
   "execution_count": 37,
   "metadata": {
    "collapsed": true
   },
   "outputs": [],
   "source": [
    "for h in HOUSES:\n",
    "    for p in TASK_PRECEDENCES:\n",
    "        mdl.add(end_before_start(tasks[(h, find_tasks(p.beforeTask))], tasks[(h, find_tasks(p.afterTask))]))\n",
    "        \n",
    "for h in HOUSES:\n",
    "    for t in TASKS:\n",
    "        mdl.add(alternative(tasks[(h, t)], [wtasks[(h, s)] for s in SKILLS if (s.task == t.name)], 1))\n",
    "\n",
    "for w in WORKERS:\n",
    "    mdl.add(no_overlap([wtasks[(h, s)] for h in HOUSES for s in SKILLS if s.worker == w]))\n"
   ]
  },
  {
   "cell_type": "code",
   "execution_count": 38,
   "metadata": {
    "collapsed": true
   },
   "outputs": [],
   "source": [
    "obj = sum([s.level * presence_of(wtasks[(h, s)]) for s in SKILLS for h in HOUSES])\n",
    "mdl.add(maximize(obj))"
   ]
  },
  {
   "cell_type": "code",
   "execution_count": 39,
   "metadata": {
    "collapsed": false
   },
   "outputs": [
    {
     "name": "stdout",
     "output_type": "stream",
     "text": [
      "\n",
      "Solving model....\n"
     ]
    }
   ],
   "source": [
    "# Solve the model\n",
    "print(\"\\nSolving model....\")\n",
    "msol = mdl.solve(url=SVC_URL, key=SVC_KEY, TimeLimit=10)"
   ]
  },
  {
   "cell_type": "markdown",
   "metadata": {},
   "source": [
    "# View the Solution"
   ]
  },
  {
   "cell_type": "code",
   "execution_count": 40,
   "metadata": {
    "collapsed": false
   },
   "outputs": [
    {
     "name": "stdout",
     "output_type": "stream",
     "text": [
      "Solve status: Feasible\n",
      "Solve time: 10.0831871033\n",
      "\n",
      "List of tasks in increasing start order:\n",
      "From 0 to 35, masonry in house 4\n",
      "From 0 to 35, masonry in house 5\n",
      "From 35 to 70, masonry in house 1\n",
      "From 35 to 50, ceiling in house 5\n",
      "From 50 to 90, plumbing in house 4\n",
      "From 50 to 60, painting in house 5\n",
      "From 70 to 105, masonry in house 3\n",
      "From 90 to 130, plumbing in house 5\n",
      "From 105 to 140, masonry in house 2\n",
      "From 105 to 120, carpentry in house 3\n",
      "From 130 to 145, ceiling in house 3\n",
      "From 140 to 155, ceiling in house 4\n",
      "From 145 to 160, ceiling in house 2\n",
      "From 145 to 155, painting in house 3\n",
      "From 155 to 170, carpentry in house 1\n",
      "From 155 to 165, painting in house 4\n",
      "From 160 to 200, plumbing in house 3\n",
      "From 170 to 185, ceiling in house 1\n",
      "From 185 to 195, painting in house 1\n",
      "From 185 to 200, carpentry in house 5\n",
      "From 200 to 240, plumbing in house 1\n",
      "From 200 to 215, carpentry in house 4\n",
      "From 215 to 230, carpentry in house 2\n",
      "From 230 to 235, roofing in house 5\n",
      "From 235 to 240, garden in house 5\n",
      "From 235 to 240, windows in house 5\n",
      "From 240 to 245, roofing in house 2\n",
      "From 240 to 250, facade in house 5\n",
      "From 245 to 250, roofing in house 1\n",
      "From 250 to 255, garden in house 1\n",
      "From 250 to 255, windows in house 2\n",
      "From 250 to 255, roofing in house 4\n",
      "From 255 to 260, roofing in house 3\n",
      "From 255 to 260, garden in house 4\n",
      "From 255 to 260, windows in house 4\n",
      "From 260 to 265, windows in house 1\n",
      "From 260 to 300, plumbing in house 2\n",
      "From 260 to 265, garden in house 3\n",
      "From 265 to 270, windows in house 3\n",
      "From 265 to 270, moving in house 5\n",
      "From 270 to 280, facade in house 1\n",
      "From 280 to 285, moving in house 1\n",
      "From 280 to 290, facade in house 4\n",
      "From 290 to 300, facade in house 3\n",
      "From 290 to 295, moving in house 4\n",
      "From 300 to 305, garden in house 2\n",
      "From 300 to 310, painting in house 2\n",
      "From 300 to 310, facade in house 2\n",
      "From 305 to 310, moving in house 3\n",
      "From 310 to 315, moving in house 2\n"
     ]
    }
   ],
   "source": [
    "print(\"Solve status: \" + msol.get_solve_status())\n",
    "if msol.is_solution():\n",
    "    stdout.write(\"Solve time: \" + str(msol.get_solve_time()) + \"\\n\")\n",
    "    # Sort tasks in increasing begin order\n",
    "    ltasks = []\n",
    "    for hs in HOUSES:\n",
    "        for tsk in TASKS:\n",
    "            (beg, end, dur) = msol[tasks[(hs, tsk)]]\n",
    "            ltasks.append((hs, tsk, beg, end, dur))\n",
    "    ltasks = sorted(ltasks, key = lambda x : x[2])\n",
    "    # Print solution\n",
    "    print(\"\\nList of tasks in increasing start order:\")\n",
    "    for tsk in ltasks:\n",
    "        print(\"From \" + str(tsk[2]) + \" to \" + str(tsk[3]) + \", \" + tsk[1].name + \" in house \" + str(tsk[0]))\n",
    "else:\n",
    "    stdout.write(\"No solution found\\n\")"
   ]
  },
  {
   "cell_type": "markdown",
   "metadata": {},
   "source": [
    "# Bonus Section"
   ]
  },
  {
   "cell_type": "code",
   "execution_count": 41,
   "metadata": {
    "collapsed": true
   },
   "outputs": [],
   "source": [
    "POP_UP_GRAPHIC=False\n",
    "\n",
    "import docplex.cp.utils_visu as visu\n",
    "import matplotlib.pyplot as plt\n",
    "if not POP_UP_GRAPHIC:\n",
    "    %matplotlib inline\n",
    "#Change the plot size\n",
    "from pylab import rcParams\n",
    "rcParams['figure.figsize'] = 15, 3"
   ]
  },
  {
   "cell_type": "code",
   "execution_count": 42,
   "metadata": {
    "collapsed": false
   },
   "outputs": [
    {
     "data": {
      "image/png": "[encoded data removed]",
      "text/plain": [
       "<matplotlib.figure.Figure at 0x7f7941477450>"
      ]
     },
     "metadata": {},
     "output_type": "display_data"
    }
   ],
   "source": [
    "# Get just the first letter of each Task for easy display\n",
    "def compact_name(name,n): return name[:n]\n",
    "\n",
    "if msol and visu.is_visu_enabled():\n",
    "    workers_colors = {}\n",
    "    workers_colors[\"Joe\"] = 'lightblue'\n",
    "    workers_colors[\"Jack\"] = 'violet'\n",
    "    workers_colors[\"Jim\"] = 'lightgreen'\n",
    "    visu.timeline('Solution per houses', 0, MAX_AMOUNT_OF_PERIODS)\n",
    "    for h in HOUSES:\n",
    "        visu.sequence(name=\"house \" + str(h))\n",
    "        for s in SKILLS:\n",
    "            wt = msol.get_var_solution(wtasks[(h,s)])\n",
    "            if wt.is_present():\n",
    "                color = workers_colors[s.worker]\n",
    "                wtname = compact_name(s.task,2)\n",
    "                visu.interval(wt, color, wtname)\n",
    "    visu.show()"
   ]
  },
  {
   "cell_type": "code",
   "execution_count": 43,
   "metadata": {
    "collapsed": false
   },
   "outputs": [
    {
     "data": {
      "image/png": "[encoded data removed]",
      "text/plain": [
       "<matplotlib.figure.Figure at 0x7f7940715210>"
      ]
     },
     "metadata": {},
     "output_type": "display_data"
    }
   ],
   "source": [
    "def compact_house_task(name):\n",
    "    loc, task = name[1:].split('-', 1)\n",
    "    return task[0].upper() + loc\n",
    "if msol and visu.is_visu_enabled():\n",
    "    visu.timeline('Solution per workers', 0, MAX_AMOUNT_OF_PERIODS)\n",
    "    for w in WORKERS:\n",
    "        visu.sequence(name=w)\n",
    "        for h in HOUSES:\n",
    "            for s in SKILLS:\n",
    "                if s.worker == w:\n",
    "                    wt = msol.get_var_solution(wtasks[(h,s)])\n",
    "                    if wt.is_present():\n",
    "                        ml = find_max_level_skill(s.task).level\n",
    "                        if s.level == ml:\n",
    "                            color = 'lightgreen'\n",
    "                        else:\n",
    "                            color = 'salmon'\n",
    "                        wtname = compact_house_task(wt.get_name())\n",
    "                        visu.interval(wt, color, wtname)\n",
    "    visu.show()"
   ]
  }
 ],
 "metadata": {
  "kernelspec": {
   "display_name": "Python 2",
   "language": "python",
   "name": "python2"
  },
  "language_info": {
   "codemirror_mode": {
    "name": "ipython",
    "version": 2
   },
   "file_extension": ".py",
   "mimetype": "text/x-python",
   "name": "python",
   "nbconvert_exporter": "python",
   "pygments_lexer": "ipython2",
   "version": "2.7.13"
  }
 },
 "nbformat": 4,
 "nbformat_minor": 2
}
